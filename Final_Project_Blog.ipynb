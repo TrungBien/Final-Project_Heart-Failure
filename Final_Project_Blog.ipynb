{
 "cells": [
  {
   "cell_type": "markdown",
   "source": "### Predicting Heart Failure in Patients with Heart Disease",
   "metadata": {
    "tags": [],
    "cell_id": "00001-7f060f02-bf89-4866-83c9-7e1caa6c7ce8",
    "deepnote_cell_type": "markdown"
   }
  },
  {
   "cell_type": "markdown",
   "source": "written by Tin Bien (GitHub: TrungBien) and Kristina Arana (GitHub: kristina)",
   "metadata": {
    "tags": [],
    "cell_id": "00002-0c4e9c99-bdee-4365-b34a-55ecc91b669a",
    "deepnote_cell_type": "markdown"
   }
  },
  {
   "cell_type": "markdown",
   "source": "### About the dataset\n\nHeart disease affects up to 26 million people across the globe. It is defined as a weakened heart in which an insufficient amount of blood is pumped throughout your body. It is progressive condition and isn't, as the name might suggest, defined by a single instance in which the heart stops altogether. Heart failure is accompanied by different symtpoms (i.e shortness of breath, fatigue, irregular heart beats) which is why it's important to monitor your health to ensure the condition doesn't worsen. With the help of this dataset we've been able to analyze the common attributes amongst patients with heart failure to recognize patterns that help predict heart failure in patients with heart diseases.\n\nThe attributes in this data set are:\n1. Age : age of the patient\n2. Anaemia: whether or not the patient has anaemia \n3. Creatinine Phosphokinase: amount of creatinine phosphokinase (an enzyme) in the blood measured in mgc/L \n4. Diabetes: says if patient has diabetes or not\n5. Ejection fraction: percentage of blood that the heart releases per contraction\n6. High Blood Pressure: whether or not the patient has high blood pressure or not \n7. Platelets: amount of platelets in blood, measured in kiloplatelets/mL\n8. Serum Creatinine: amount of serum creatinine in blood, measured in mg/dL\n9. Serum sodium: amount of serum sodium in blood, measured in mEq/L\n10. Sex: sex of the patient (female/male)\n11. Smoking: whether or not the patient smokes\n12. Time: amount of time passed until the patients next check-up appointment (measured in days)\n13. Death Event: whether or not the patient died before the check-up appointment\n\nAll data was collected from BMC Medical Informatics and Decision Making 20, 16 (2020) and the dataset was accessed from https://www.kaggle.com/andrewmvd/heart-failure-clinical-data.",
   "metadata": {
    "tags": [],
    "cell_id": "00003-21d8a067-ce9b-4469-aef9-af9ab1ab38e6",
    "deepnote_cell_type": "markdown"
   }
  },
  {
   "cell_type": "markdown",
   "source": "",
   "metadata": {
    "tags": [],
    "cell_id": "00004-14ef7161-3d1b-4d2d-92b9-33fb6e63ebb0",
    "deepnote_cell_type": "markdown"
   }
  },
  {
   "cell_type": "markdown",
   "source": "### Discussion\nFrom our dataset we found that heart failure affects the older generations (45 to 70 years old). We found that the pateients observed were 35.42% female and 64.58% male patients. This is important to note in order to eliminate bias (we cannot say heart failure is more common in males, if there is simply more male patients). Instead, we will judge our results on the ratio of female to males. That being said when we plotted the pie chart of females and males who had died due to heart failure, the ratio stayed about the same but looked aaas though there were slighlty more males. Thus it can be softly suggested that males are more likely to die due to heart failure. Going forward, it would be best to collect data from the same number of males and females. \n\nWe also found that the majority of the patients had either diabetes, anaemia, high blood pressure or a combination of these three. By looking at the pie chart labelled 'Patient Condition Status (based on conditions in dataset)' we can see that these conditions are highly common among people with heart failure. This yields a grand revelation, when the heart cannot adequately function, patients are likely to develop an additional condition (diabetes, anaemia, high blood pressure). If this is not the case, these conditions at the very least do not aid an individual with their cardivascular health. This means, patients with heart failure should be monitoring their blood pressure and sodium/sugar levels because it has been shown that these health conditions are likely to develop and should not go untreated. Another way this can be useful is for people who are unaware that they have heart failure. If they are able to recognize that they have one of the three mentioned traits, they should go to a doctor to avoid leaving heart failure itself, untreated.\n\nAn attribute we focused on was the platelet count because platelets are responsible for clotting and repairing damaged blood vessels. A low platelet count (called thrombocytopenia) is thus associated with failure to repair damaged vessels. A high platelet count (called thrombocytosis) means there will be excessive amount of clotting (which is not good for circulation). A healthy amount of platelets is within the range 150,000 to 450,000 per microliter of blood. In our box plot we can see the platelet count of our patients were either above or below the recommended range. This leads us to believe, that platelet count is also associated with heart failure. This is yet, another thing for people with heart failure to monitor.\n\nThe most focused on attribute was creatinine phosphokinase (CPK) levels in the blood. High levels of CPK is an idication that a muscle tissue has undergone some degree of stress (he higher the CPK levels, the higher the stress an vice versa). So, that led us to the question, is there a level of CPK that indicates certain death? The answer we found was inconclusive. Based off of our scatter plot, we can see that there are patients who have died when their CPK levels were very low and patients who have survived with CPK levels very high. Although this is interesting, it prevents us from reaching a final answer. It does however go to show that there are many other factors involved in death due to poor heart health and it is important to keep an eye on the other attributes we have mentioned to stay safe.\n\nFinally, we looked at the correlations between the attributes with a heat map. Our original question was \"Which attribute(s) have the highest correlation with heart failure?\" however after going through our data we must adjust the meaning of this question. Namely because there is no attribute \"heart failure\" because we cannot directly measure heart failure (as previously mentioned, there are many different factors that influence the severity of heart failure). Instead we will aim to see which atributes are strongly connected in individuals with heart failure. From this graph we noticed many mediocre results; none of the correlations were extremely high or extremely low. The greatest, positive correlation was found between serum creatinine and death event attributes. Serum creatinine indicates how high or low a patients sodium level is in their bloodstream. Thus we can conclude, that higher sodium levels will increase a patients likelihood of dying. This is helpful because it directs our attention to the eaing habits of a patient, foods high in sodium should be avoided. Another interesting correlation occured between time and death. As more time passed in between check-up appointments, the death count also increased. This could be for multiple reasons, for instance perhaps patients were not maintaining strict regulations as time passed. Overall, those were the most important correlations. The other relatively higher did not provide any insight to predicting heart failure. For example, the correlation between time and age. We expect age to increase with time but that is not useful information.\n\n\n",
   "metadata": {
    "tags": [],
    "cell_id": "00005-be258aa3-65b7-48c8-b5b1-59e11d6f87df",
    "deepnote_cell_type": "markdown"
   }
  },
  {
   "cell_type": "markdown",
   "source": "## Conclusion\n\nAfter working with this dataset, we learned about common attriutes among those with heart disease and some connections between attributes. Unfortunately, we were unable to link creatinine phosphokinase (CPK) to death events, which we were initially very confident would be the best indicator of a death event. Patients who we expected to have died (because they had high CPK levels) had lived and vice versa. It is for this reason that we are not able to make a final, all accurate conclusion. Nonetheless, we learned that patients with heart failure share three health conditions; anaemia, high blood pressure and diabetes. Likewise, they share low platelet levels, relatively average serum sodium levels, and low ejection fractions. Along with the precations one would take with diabetes (i.e monitoring sugar levels), anameia and high blood pressure, these results show that patients should also be monitoring their platelet count, sofium levels and ejection fractions (as often as a doctor suggests). \nMost of all, what we'd like to highlight is that there are many different attributes that play a role in heart failure so it is imortant for those with it to follow the proper regulations to maintain as healthy of a heart as possible.\n\nGoing forward, to refine the code we would load the dataset with pandas for greater efficiency. We would also make the graphs look more visually appealing and increase its specificity. For example, in the bar graphs for each attribute, it gives an excellent general idea of our data trends however, you cannot see exact values. We would also choose a dataset that we have some expertise in so that we have a better idea of what questions to ask and major red flags to look out for. ",
   "metadata": {
    "tags": [],
    "cell_id": "00005-6c66c9e6-b0f2-4b3d-bf30-754c84a2239b",
    "deepnote_cell_type": "markdown"
   }
  },
  {
   "cell_type": "markdown",
   "source": "## Acknowledgements\n\n_This project was submitted as the final course project for CSCI 2000U “Scientific Data Analysis” during Fall 2021. The authors certify that the work in this repository is original and that all appropriate resources are rightfully cited.”_",
   "metadata": {
    "tags": [],
    "cell_id": "00005-08320fcf-c78a-4fc6-927d-92a5af3b9ade",
    "deepnote_cell_type": "markdown"
   }
  },
  {
   "cell_type": "markdown",
   "source": "# README\n\n## CSCI 2000U Scientific Data Analysis Final Project (Group 12) - Heart Failure\n\n### Description:\n    This project was submitted as the final course project for CSCI 2000U “Scientific Data Analysis” during Fall 2021 that explores the dataset of heart failure patients\n    using methods learnt throughout the CSCI 2000U course. The file \"Final_Project.ipynb\" reads the .csv file and creates data tables and graphs to explore the     \n    information.\n    The file \"Final_Project_Blog.ipynb\" is a notebook file that uses Markdown to convey the information from \"Final_Project.ipynb\" to a broader group of people using a\n    scientific blog format. \n\n    The entire project was developed and tested on Deepnote (which also uses Jupyter Notebooks).\n\n### Installation:\n    1. On the main page of the project in Github, click on 'Code' and download as .zip.\n    2. Extract the file into a new folder for easier access.\n    3. Either go to a website that offers support for (coding) notebooks such as [Deepnote](https://deepnote.com) and upload the files or set up your own instance of Jupyter Notebooks.\n\n### How To Use:\n    For \"Final_Project.ipynb\":\n        1. Run the entire notebook to ensure that everything runs properly. \n                (Note: if you ever find that something may be broken or seem unusual, try running the entire notebook to be be safe.)\n        2. Run the code block where `display(df.describe(include='all'))` is located. \n                For some odd reason that we don't understand, the first run of the code does not include the `include='all'` option.\n\n    For \"Final_Project_Blog.ipynb\"\n        1. It should be ready without needing to run it but if needed, run the entire notebook.\n\n### Credits:\n    Tin Trung Bien\n    Kristina Gutierrez-Arana\n\n\n",
   "metadata": {
    "tags": [],
    "cell_id": "00006-c9d56716-d782-4874-a575-ea7ac9feaa5e",
    "deepnote_cell_type": "markdown"
   }
  },
  {
   "cell_type": "markdown",
   "source": "<a style='text-decoration:none;line-height:16px;display:flex;color:#5B5B62;padding:10px;justify-content:end;' href='https://deepnote.com?utm_source=created-in-deepnote-cell&projectId=b67bd8c2-fae4-4cf3-869a-f12afa6891d1' target=\"_blank\">\n<img alt='Created in deepnote.com' style='display:inline;max-height:16px;margin:0px;margin-right:7.5px;' src='data:image/svg+xml;base64,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' > </img>\nCreated in <span style='font-weight:600;margin-left:4px;'>Deepnote</span></a>",
   "metadata": {
    "tags": [],
    "created_in_deepnote_cell": true,
    "deepnote_cell_type": "markdown"
   }
  }
 ],
 "nbformat": 4,
 "nbformat_minor": 2,
 "metadata": {
  "orig_nbformat": 2,
  "deepnote": {
   "is_reactive": false
  },
  "deepnote_notebook_id": "4b31aa9c-9b76-4034-a60b-8c6213a4943b",
  "deepnote_execution_queue": []
 }
}